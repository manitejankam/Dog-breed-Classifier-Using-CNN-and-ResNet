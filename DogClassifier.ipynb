{
 "cells": [
  {
   "cell_type": "code",
   "execution_count": 2,
   "metadata": {
    "colab": {
     "base_uri": "https://localhost:8080/",
     "height": 33
    },
    "colab_type": "code",
    "executionInfo": {
     "elapsed": 3882,
     "status": "ok",
     "timestamp": 1544578727805,
     "user": {
      "displayName": "Manitej Ankam",
      "photoUrl": "https://lh3.googleusercontent.com/-yezqrQ-dYGw/AAAAAAAAAAI/AAAAAAAAAJ4/w-1bvZN8FoE/s64/photo.jpg",
      "userId": "17469310756719594507"
     },
     "user_tz": 300
    },
    "id": "Ov1Cw7PUtq_P",
    "outputId": "2dcf10e5-d624-416c-dd07-0e19c05b0057"
   },
   "outputs": [
    {
     "name": "stderr",
     "output_type": "stream",
     "text": [
      "Using TensorFlow backend.\n"
     ]
    }
   ],
   "source": [
    "from sklearn.datasets import load_files\n",
    "from keras.utils import np_utils\n",
    "import numpy as np\n",
    "from glob import glob \n",
    "import tqdm as tqdm"
   ]
  },
  {
   "cell_type": "code",
   "execution_count": 0,
   "metadata": {
    "colab": {},
    "colab_type": "code",
    "collapsed": true,
    "id": "bN91-2BVukrx"
   },
   "outputs": [],
   "source": [
    "def load_dataset(path):\n",
    "    data = load_files(path)\n",
    "    dog_files = np.array(data['filenames'])\n",
    "    dog_targets = np_utils.to_categorical(np.array(data['target']), 133)\n",
    "    return dog_files, dog_targets"
   ]
  },
  {
   "cell_type": "code",
   "execution_count": 4,
   "metadata": {
    "colab": {
     "base_uri": "https://localhost:8080/",
     "height": 33
    },
    "colab_type": "code",
    "executionInfo": {
     "elapsed": 264,
     "status": "ok",
     "timestamp": 1544578729326,
     "user": {
      "displayName": "Manitej Ankam",
      "photoUrl": "https://lh3.googleusercontent.com/-yezqrQ-dYGw/AAAAAAAAAAI/AAAAAAAAAJ4/w-1bvZN8FoE/s64/photo.jpg",
      "userId": "17469310756719594507"
     },
     "user_tz": 300
    },
    "id": "nRGgCnyWurH5",
    "outputId": "487d571c-0636-4483-9e18-9073775f014a"
   },
   "outputs": [
    {
     "name": "stdout",
     "output_type": "stream",
     "text": [
      "Drive already mounted at /content/drive; to attempt to forcibly remount, call drive.mount(\"/content/drive\", force_remount=True).\n"
     ]
    }
   ],
   "source": [
    "\n",
    "# Load the Drive helper and mount\n",
    "from google.colab import drive\n",
    "\n",
    "# This will prompt for authorization.\n",
    "drive.mount('/content/drive')"
   ]
  },
  {
   "cell_type": "code",
   "execution_count": 5,
   "metadata": {
    "colab": {
     "base_uri": "https://localhost:8080/",
     "height": 1606
    },
    "colab_type": "code",
    "executionInfo": {
     "elapsed": 1219,
     "status": "ok",
     "timestamp": 1544578731039,
     "user": {
      "displayName": "Manitej Ankam",
      "photoUrl": "https://lh3.googleusercontent.com/-yezqrQ-dYGw/AAAAAAAAAAI/AAAAAAAAAJ4/w-1bvZN8FoE/s64/photo.jpg",
      "userId": "17469310756719594507"
     },
     "user_tz": 300
    },
    "id": "cQspPSwuxbMa",
    "outputId": "e670fa74-117c-4a84-aa2e-4c8d757444f8"
   },
   "outputs": [
    {
     "name": "stdout",
     "output_type": "stream",
     "text": [
      " 143645.gdoc\n",
      " 143645.pdf\n",
      " 1523514756192_E-commerce-qb.gdoc\n",
      "'26-12-III B.Tech. II Semester (R13) Regular.xls'\n",
      "'26-12-III B.Tech. II Semester (R13) Regular.xls.gsheet'\n",
      " 33244\n",
      "'33244 (1).gsheet'\n",
      "'33244 (2).gsheet'\n",
      " 33244.gsheet\n",
      "'ACD Text.pdf'\n",
      " Airplane_car_data.zip\n",
      "'Allotments- MGITMUN 2017.gsheet'\n",
      "'ANKAM MANITEJ resume (1).docx'\n",
      "'ANKAM MANITEJ resume (1).docx.gdoc'\n",
      "'ANKAM MANITEJ resume.docx'\n",
      "'ANKAM MANITEJ resume.docx.gdoc'\n",
      "'ANKAM MANITEJ resume.gdoc'\n",
      "'ANKAM MANITEJ resume.pdf'\n",
      "'Auto Call Recorder'\n",
      " Bank.gdoc\n",
      "'Block Chain TECH.pptx'\n",
      "'Block Chain TECH.pptx.gslides'\n",
      " bottleneck_features\n",
      "'CERTIFICATE DOC.gdoc'\n",
      " ChangeMaker.java\n",
      "'class diagram for ATM System.png'\n",
      "'Colab Notebooks'\n",
      "'COVER LETTER.pdf'\n",
      " cv5.apk\n",
      " Cv6.apk\n",
      " dogImages\n",
      " dogImages2\n",
      "'Fourier Transforms.pdf'\n",
      " helloworld.rtf\n",
      " helloworld.rtf.gdoc\n",
      "'How to RUN'\n",
      " IMG-20171103-WA0020.jpg\n",
      " jess301.pdf\n",
      " jess302.pdf\n",
      " jess303.pdf\n",
      "'jess304 (1).pdf'\n",
      " jess304.pdf\n",
      " jess305.pdf\n",
      " jess306.pdf\n",
      " jess307.pdf\n",
      " jess308.pdf\n",
      " jess3ps.pdf\n",
      "'Manitej COVER LETTER.gdoc'\n",
      "'Manitej COVER LETTER.pdf'\n",
      "'MANITEJ resume (1).docx'\n",
      "'MANITEJ resume (2).docx'\n",
      "'MANITEJ resume.docx'\n",
      "'Manitej SOP.docx'\n",
      "'Manitej SOP.gdoc'\n",
      "'MANITEJ_UD RESUME (1).gdoc'\n",
      "'MANITEJ_UD RESUME.docx'\n",
      "'MANITEJ_UD RESUME.gdoc'\n",
      "'Mgit '\n",
      "\"nehru'.png\"\n",
      "'OS text intro.pdf'\n",
      "'OS text scheduling.pdf'\n",
      "'PPL UNIT 2.pdf'\n",
      "'ppt on black holes.ppt'\n",
      " ProcessStack.java\n",
      " resto.apk\n",
      " Schoolroom_00.gif\n",
      " Schoolroom_00.png\n",
      " src\n",
      "'Tic Tac Toe.apk'\n",
      "'Tree (1).java'\n",
      " unknown\n",
      " Untitled_0_00.gif\n",
      " Untitled_19_00.gif\n",
      " Untitled_19_01.gif\n",
      " Untitled_19_02.gif\n",
      " Untitled_19_03.gif\n",
      "'Untitled document (10).gdoc'\n",
      "'Untitled document (11).gdoc'\n",
      "'Untitled document (1).gdoc'\n",
      "'Untitled document (2).gdoc'\n",
      "'Untitled document (3).gdoc'\n",
      "'Untitled document (4).gdoc'\n",
      "'Untitled document (5).gdoc'\n",
      "'Untitled document (6).gdoc'\n",
      "'Untitled document (7).gdoc'\n",
      "'Untitled document (8).gdoc'\n",
      "'Untitled document (9).gdoc'\n",
      "'Untitled document.gdoc'\n",
      "'Weather Prediction Using Machine Learning.pptx'\n",
      "'Weather Prediction Using Machine Learning.pptx.gslides'\n",
      "'WP index.docx'\n",
      "'WP index.docx.gdoc'\n",
      " ws2.csv\n",
      "'wt batch1 dates - print this.doc'\n",
      "'wt batch1 dates - print this.doc.gdoc'\n"
     ]
    }
   ],
   "source": [
    "#lists the content of your google drive\n",
    "!ls \"/content/drive/My Drive\""
   ]
  },
  {
   "cell_type": "code",
   "execution_count": 6,
   "metadata": {
    "colab": {
     "base_uri": "https://localhost:8080/",
     "height": 134
    },
    "colab_type": "code",
    "executionInfo": {
     "elapsed": 25404,
     "status": "ok",
     "timestamp": 1544578756946,
     "user": {
      "displayName": "Manitej Ankam",
      "photoUrl": "https://lh3.googleusercontent.com/-yezqrQ-dYGw/AAAAAAAAAAI/AAAAAAAAAJ4/w-1bvZN8FoE/s64/photo.jpg",
      "userId": "17469310756719594507"
     },
     "user_tz": 300
    },
    "id": "Gd-f2TBfuzsq",
    "outputId": "d3ff7afe-85fd-4306-e034-59c3e753078e"
   },
   "outputs": [
    {
     "name": "stdout",
     "output_type": "stream",
     "text": [
      "['/content/drive/My Drive/dogImages/train/095.Kuvasz/Kuvasz_06442.jpg'\n",
      " '/content/drive/My Drive/dogImages/train/057.Dalmatian/Dalmatian_04054.jpg'\n",
      " '/content/drive/My Drive/dogImages/train/088.Irish_water_spaniel/Irish_water_spaniel_06014.jpg'\n",
      " ...\n",
      " '/content/drive/My Drive/dogImages/train/029.Border_collie/Border_collie_02069.jpg'\n",
      " '/content/drive/My Drive/dogImages/train/046.Cavalier_king_charles_spaniel/Cavalier_king_charles_spaniel_03261.jpg'\n",
      " '/content/drive/My Drive/dogImages/train/048.Chihuahua/Chihuahua_03416.jpg']\n"
     ]
    }
   ],
   "source": [
    "train_files, train_targets = load_dataset('/content/drive/My Drive/dogImages/train')\n",
    "valid_files, valid_targets = load_dataset('/content/drive/My Drive/dogImages/valid')\n",
    "test_files, test_targets = load_dataset('/content/drive/My Drive/dogImages/test')\n",
    "print(train_files)"
   ]
  },
  {
   "cell_type": "code",
   "execution_count": 7,
   "metadata": {
    "colab": {
     "base_uri": "https://localhost:8080/",
     "height": 134
    },
    "colab_type": "code",
    "executionInfo": {
     "elapsed": 302,
     "status": "ok",
     "timestamp": 1544578768217,
     "user": {
      "displayName": "Manitej Ankam",
      "photoUrl": "https://lh3.googleusercontent.com/-yezqrQ-dYGw/AAAAAAAAAAI/AAAAAAAAAJ4/w-1bvZN8FoE/s64/photo.jpg",
      "userId": "17469310756719594507"
     },
     "user_tz": 300
    },
    "id": "8uvAhfhAvyYY",
    "outputId": "fa2dd32f-8e79-4bca-b216-44c00957bc14"
   },
   "outputs": [
    {
     "name": "stdout",
     "output_type": "stream",
     "text": [
      "[[0. 0. 0. ... 0. 0. 0.]\n",
      " [0. 0. 0. ... 0. 0. 0.]\n",
      " [0. 0. 0. ... 0. 0. 0.]\n",
      " ...\n",
      " [0. 0. 0. ... 0. 0. 0.]\n",
      " [0. 0. 0. ... 0. 0. 0.]\n",
      " [0. 0. 0. ... 0. 0. 0.]]\n"
     ]
    }
   ],
   "source": [
    "print(valid_targets)"
   ]
  },
  {
   "cell_type": "code",
   "execution_count": 8,
   "metadata": {
    "colab": {
     "base_uri": "https://localhost:8080/",
     "height": 67
    },
    "colab_type": "code",
    "executionInfo": {
     "elapsed": 731,
     "status": "ok",
     "timestamp": 1544578770527,
     "user": {
      "displayName": "Manitej Ankam",
      "photoUrl": "https://lh3.googleusercontent.com/-yezqrQ-dYGw/AAAAAAAAAAI/AAAAAAAAAJ4/w-1bvZN8FoE/s64/photo.jpg",
      "userId": "17469310756719594507"
     },
     "user_tz": 300
    },
    "id": "cEoVmG4F7gw9",
    "outputId": "f589d49f-cc8e-43a0-bf58-6028df2f1749"
   },
   "outputs": [
    {
     "name": "stdout",
     "output_type": "stream",
     "text": [
      "There are 6680 training dog images.\n",
      "There are 835 validation dog images.\n",
      "There are 836 test dog images.\n"
     ]
    }
   ],
   "source": [
    "dog_names = [item[20:-1] for item in sorted(glob(\"/content/drive/My Drive/dogImages2/train/*/\"))]\n",
    "\n",
    "\n",
    "print('There are %d training dog images.' % len(train_files))\n",
    "print('There are %d validation dog images.' % len(valid_files))\n",
    "print('There are %d test dog images.'% len(test_files))"
   ]
  },
  {
   "cell_type": "code",
   "execution_count": 0,
   "metadata": {
    "colab": {},
    "colab_type": "code",
    "collapsed": true,
    "id": "yFJ4iJCE7j_O"
   },
   "outputs": [],
   "source": [
    "from keras.preprocessing import image                  \n",
    "from tqdm import tqdm\n",
    "\n",
    "def path_to_tensor(img_path):\n",
    "    # loads RGB image as PIL.Image.Image type\n",
    "    img = image.load_img(img_path, target_size=(224, 224))\n",
    "    # convert PIL.Image.Image type to 3D tensor with shape (224, 224, 3)\n",
    "    x = image.img_to_array(img)\n",
    "    # convert 3D tensor to 4D tensor with shape (1, 224, 224, 3) and return 4D tensor\n",
    "    return np.expand_dims(x, axis=0)\n",
    "\n",
    "def paths_to_tensor(img_paths):\n",
    "    list_of_tensors = [path_to_tensor(img_path) for img_path in tqdm(img_paths)]\n",
    "    return np.vstack(list_of_tensors)"
   ]
  },
  {
   "cell_type": "code",
   "execution_count": 10,
   "metadata": {
    "colab": {
     "base_uri": "https://localhost:8080/",
     "height": 67
    },
    "colab_type": "code",
    "executionInfo": {
     "elapsed": 107218,
     "status": "ok",
     "timestamp": 1544578880391,
     "user": {
      "displayName": "Manitej Ankam",
      "photoUrl": "https://lh3.googleusercontent.com/-yezqrQ-dYGw/AAAAAAAAAAI/AAAAAAAAAJ4/w-1bvZN8FoE/s64/photo.jpg",
      "userId": "17469310756719594507"
     },
     "user_tz": 300
    },
    "id": "2d2aTFQd8Epn",
    "outputId": "a7a5adb5-5976-451e-9f45-5dabd6a563b2"
   },
   "outputs": [
    {
     "name": "stderr",
     "output_type": "stream",
     "text": [
      "100%|██████████| 6680/6680 [01:17<00:00, 86.45it/s]\n",
      "100%|██████████| 835/835 [00:09<00:00, 92.70it/s]\n",
      "100%|██████████| 836/836 [00:08<00:00, 94.37it/s] \n"
     ]
    }
   ],
   "source": [
    "from PIL import ImageFile                            \n",
    "ImageFile.LOAD_TRUNCATED_IMAGES = True                 \n",
    "\n",
    "# pre-process the data for Keras\n",
    "train_tensors = paths_to_tensor(train_files).astype('float32')/255\n",
    "valid_tensors = paths_to_tensor(valid_files).astype('float32')/255\n",
    "test_tensors = paths_to_tensor(test_files).astype('float32')/255"
   ]
  },
  {
   "cell_type": "code",
   "execution_count": 0,
   "metadata": {
    "colab": {},
    "colab_type": "code",
    "collapsed": true,
    "id": "XrhTSc-B8G5p"
   },
   "outputs": [],
   "source": [
    "from keras.preprocessing.image import ImageDataGenerator\n",
    "\n",
    "datagen = ImageDataGenerator(\n",
    "    width_shift_range=0.1,  \n",
    "    height_shift_range=0.1, \n",
    "    horizontal_flip=True) \n",
    "\n",
    "datagen.fit(train_tensors)"
   ]
  },
  {
   "cell_type": "code",
   "execution_count": 12,
   "metadata": {
    "colab": {
     "base_uri": "https://localhost:8080/",
     "height": 702
    },
    "colab_type": "code",
    "executionInfo": {
     "elapsed": 2637,
     "status": "ok",
     "timestamp": 1544578896369,
     "user": {
      "displayName": "Manitej Ankam",
      "photoUrl": "https://lh3.googleusercontent.com/-yezqrQ-dYGw/AAAAAAAAAAI/AAAAAAAAAJ4/w-1bvZN8FoE/s64/photo.jpg",
      "userId": "17469310756719594507"
     },
     "user_tz": 300
    },
    "id": "TwBFonSP8J31",
    "outputId": "873ceb65-b6d6-419e-9be1-a5f2c3729b7e"
   },
   "outputs": [
    {
     "name": "stdout",
     "output_type": "stream",
     "text": [
      "_________________________________________________________________\n",
      "Layer (type)                 Output Shape              Param #   \n",
      "=================================================================\n",
      "conv2d_1 (Conv2D)            (None, 222, 222, 16)      448       \n",
      "_________________________________________________________________\n",
      "max_pooling2d_1 (MaxPooling2 (None, 111, 111, 16)      0         \n",
      "_________________________________________________________________\n",
      "batch_normalization_1 (Batch (None, 111, 111, 16)      64        \n",
      "_________________________________________________________________\n",
      "conv2d_2 (Conv2D)            (None, 109, 109, 32)      4640      \n",
      "_________________________________________________________________\n",
      "max_pooling2d_2 (MaxPooling2 (None, 54, 54, 32)        0         \n",
      "_________________________________________________________________\n",
      "batch_normalization_2 (Batch (None, 54, 54, 32)        128       \n",
      "_________________________________________________________________\n",
      "conv2d_3 (Conv2D)            (None, 52, 52, 64)        18496     \n",
      "_________________________________________________________________\n",
      "max_pooling2d_3 (MaxPooling2 (None, 26, 26, 64)        0         \n",
      "_________________________________________________________________\n",
      "batch_normalization_3 (Batch (None, 26, 26, 64)        256       \n",
      "_________________________________________________________________\n",
      "conv2d_4 (Conv2D)            (None, 24, 24, 128)       73856     \n",
      "_________________________________________________________________\n",
      "max_pooling2d_4 (MaxPooling2 (None, 12, 12, 128)       0         \n",
      "_________________________________________________________________\n",
      "batch_normalization_4 (Batch (None, 12, 12, 128)       512       \n",
      "_________________________________________________________________\n",
      "conv2d_5 (Conv2D)            (None, 10, 10, 256)       295168    \n",
      "_________________________________________________________________\n",
      "max_pooling2d_5 (MaxPooling2 (None, 5, 5, 256)         0         \n",
      "_________________________________________________________________\n",
      "batch_normalization_5 (Batch (None, 5, 5, 256)         1024      \n",
      "_________________________________________________________________\n",
      "global_average_pooling2d_1 ( (None, 256)               0         \n",
      "_________________________________________________________________\n",
      "dense_1 (Dense)              (None, 133)               34181     \n",
      "=================================================================\n",
      "Total params: 428,773\n",
      "Trainable params: 427,781\n",
      "Non-trainable params: 992\n",
      "_________________________________________________________________\n"
     ]
    }
   ],
   "source": [
    "from keras.layers import Conv2D, MaxPooling2D, GlobalAveragePooling2D\n",
    "from keras.layers import Dropout, Flatten, Dense, Activation\n",
    "from keras.models import Sequential\n",
    "from keras.layers.normalization import BatchNormalization\n",
    "from keras.optimizers import Adam\n",
    "\n",
    "model = Sequential()\n",
    "model.add(Conv2D(filters=16, kernel_size=3, activation='relu', input_shape=(224, 224, 3)))\n",
    "model.add(MaxPooling2D(pool_size=2))\n",
    "model.add(BatchNormalization())\n",
    "\n",
    "model.add(Conv2D(filters=32, kernel_size=3, activation='relu'))\n",
    "model.add(MaxPooling2D(pool_size=2))\n",
    "model.add(BatchNormalization())\n",
    "\n",
    "model.add(Conv2D(filters=64, kernel_size=3, activation='relu'))\n",
    "model.add(MaxPooling2D(pool_size=2))\n",
    "model.add(BatchNormalization())\n",
    "\n",
    "model.add(Conv2D(filters=128, kernel_size=3, activation='relu'))\n",
    "model.add(MaxPooling2D(pool_size=2))\n",
    "model.add(BatchNormalization())\n",
    "\n",
    "model.add(Conv2D(filters=256, kernel_size=3, activation='relu'))\n",
    "model.add(MaxPooling2D(pool_size=2))\n",
    "model.add(BatchNormalization())\n",
    "\n",
    "\n",
    "model.add(GlobalAveragePooling2D())\n",
    "\n",
    "model.add(Dense(133, activation='softmax'))\n",
    "model.summary()"
   ]
  },
  {
   "cell_type": "code",
   "execution_count": 0,
   "metadata": {
    "colab": {},
    "colab_type": "code",
    "collapsed": true,
    "id": "ZkS98Rq-8PWz"
   },
   "outputs": [],
   "source": [
    "model.compile(Adam(lr=0.00001), loss='categorical_crossentropy', metrics=['accuracy'])"
   ]
  },
  {
   "cell_type": "code",
   "execution_count": 14,
   "metadata": {
    "colab": {
     "base_uri": "https://localhost:8080/",
     "height": 368
    },
    "colab_type": "code",
    "executionInfo": {
     "elapsed": 795047,
     "status": "ok",
     "timestamp": 1544579696385,
     "user": {
      "displayName": "Manitej Ankam",
      "photoUrl": "https://lh3.googleusercontent.com/-yezqrQ-dYGw/AAAAAAAAAAI/AAAAAAAAAJ4/w-1bvZN8FoE/s64/photo.jpg",
      "userId": "17469310756719594507"
     },
     "user_tz": 300
    },
    "id": "uXGknsmH8SpO",
    "outputId": "6faa408d-d7a8-414b-e95d-65184211ea0e"
   },
   "outputs": [
    {
     "name": "stdout",
     "output_type": "stream",
     "text": [
      "Epoch 1/10\n",
      " - 81s - loss: 4.8897 - acc: 0.0174 - val_loss: 5.0586 - val_acc: 0.0048\n",
      "Epoch 2/10\n",
      " - 79s - loss: 4.7056 - acc: 0.0487 - val_loss: 5.0891 - val_acc: 0.0096\n",
      "Epoch 3/10\n",
      " - 79s - loss: 4.6040 - acc: 0.0645 - val_loss: 5.1080 - val_acc: 0.0108\n",
      "Epoch 4/10\n",
      " - 79s - loss: 4.5319 - acc: 0.0729 - val_loss: 5.1306 - val_acc: 0.0108\n",
      "Epoch 5/10\n",
      " - 79s - loss: 4.4792 - acc: 0.0795 - val_loss: 5.1343 - val_acc: 0.0108\n",
      "Epoch 6/10\n",
      " - 79s - loss: 4.4269 - acc: 0.0858 - val_loss: 5.1520 - val_acc: 0.0108\n",
      "Epoch 7/10\n",
      " - 79s - loss: 4.3753 - acc: 0.0961 - val_loss: 5.1731 - val_acc: 0.0096\n",
      "Epoch 8/10\n",
      " - 79s - loss: 4.3365 - acc: 0.1000 - val_loss: 5.1847 - val_acc: 0.0084\n",
      "Epoch 9/10\n",
      " - 79s - loss: 4.3010 - acc: 0.1087 - val_loss: 5.2045 - val_acc: 0.0096\n",
      "Epoch 10/10\n",
      " - 79s - loss: 4.2698 - acc: 0.1061 - val_loss: 5.2259 - val_acc: 0.0084\n"
     ]
    },
    {
     "data": {
      "text/plain": [
       "<keras.callbacks.History at 0x7fe9ed71c278>"
      ]
     },
     "execution_count": 14,
     "metadata": {
      "tags": []
     },
     "output_type": "execute_result"
    }
   ],
   "source": [
    "epochs = 10\n",
    "batch_size = 20\n",
    "\n",
    "model.fit_generator(datagen.flow(train_tensors, train_targets, batch_size=batch_size),\n",
    "                    validation_data=(valid_tensors, valid_targets), \n",
    "                    steps_per_epoch=train_tensors.shape[0] // batch_size,\n",
    "                    epochs=epochs, verbose=2)"
   ]
  },
  {
   "cell_type": "code",
   "execution_count": 15,
   "metadata": {
    "colab": {
     "base_uri": "https://localhost:8080/",
     "height": 150
    },
    "colab_type": "code",
    "executionInfo": {
     "elapsed": 3160,
     "status": "ok",
     "timestamp": 1544579713410,
     "user": {
      "displayName": "Manitej Ankam",
      "photoUrl": "https://lh3.googleusercontent.com/-yezqrQ-dYGw/AAAAAAAAAAI/AAAAAAAAAJ4/w-1bvZN8FoE/s64/photo.jpg",
      "userId": "17469310756719594507"
     },
     "user_tz": 300
    },
    "id": "u6UecY7c8Wcb",
    "outputId": "b68f99b1-0fce-459d-a591-d973cf6fb784"
   },
   "outputs": [
    {
     "name": "stdout",
     "output_type": "stream",
     "text": [
      "[[5 0 0 ... 0 0 0]\n",
      " [4 0 0 ... 0 0 0]\n",
      " [1 0 0 ... 0 0 0]\n",
      " ...\n",
      " [2 0 0 ... 0 0 0]\n",
      " [0 1 0 ... 0 0 0]\n",
      " [0 0 0 ... 0 0 0]]\n",
      "Test accuracy: 6.9378%\n"
     ]
    }
   ],
   "source": [
    "from sklearn.metrics import confusion_matrix\n",
    "# get index of predicted dog breed for each image in test set\n",
    "dog_breed_predictions = [np.argmax(model.predict(np.expand_dims(tensor, axis=0))) for tensor in test_tensors]\n",
    "\n",
    "cm = confusion_matrix(np.argmax(test_targets,1),np.asarray(dog_breed_predictions))\n",
    "\n",
    "print(cm)\n",
    "                      \n",
    "# report test accuracy\n",
    "test_accuracy = 100*np.sum(np.array(dog_breed_predictions)==np.argmax(test_targets, axis=1))/len(dog_breed_predictions)\n",
    "print('Test accuracy: %.4f%%' % test_accuracy)"
   ]
  },
  {
   "cell_type": "code",
   "execution_count": 16,
   "metadata": {
    "colab": {
     "base_uri": "https://localhost:8080/",
     "height": 435
    },
    "colab_type": "code",
    "executionInfo": {
     "elapsed": 932,
     "status": "ok",
     "timestamp": 1544579720010,
     "user": {
      "displayName": "Manitej Ankam",
      "photoUrl": "https://lh3.googleusercontent.com/-yezqrQ-dYGw/AAAAAAAAAAI/AAAAAAAAAJ4/w-1bvZN8FoE/s64/photo.jpg",
      "userId": "17469310756719594507"
     },
     "user_tz": 300
    },
    "id": "8xHUNb6VKFta",
    "outputId": "384b28d5-4265-4150-92b8-d0c579367857"
   },
   "outputs": [
    {
     "name": "stdout",
     "output_type": "stream",
     "text": [
      "[[[[7.2806221e-01 3.8177130e-01 3.7170208e-01 ... 2.2422303e-01\n",
      "    2.7094164e-01 1.9768992e-02]]]\n",
      "\n",
      "\n",
      " [[[1.0059553e+00 6.8839407e-01 0.0000000e+00 ... 2.1531639e-01\n",
      "    1.1211441e+00 9.8433543e-04]]]\n",
      "\n",
      "\n",
      " [[[9.3968622e-02 1.9756782e-01 0.0000000e+00 ... 3.9581805e-01\n",
      "    1.7996365e+00 1.1467970e-03]]]\n",
      "\n",
      "\n",
      " ...\n",
      "\n",
      "\n",
      " [[[2.0537768e-01 8.7052494e-02 5.7939609e-04 ... 0.0000000e+00\n",
      "    5.1938808e-03 8.0556148e-01]]]\n",
      "\n",
      "\n",
      " [[[2.9411476e-02 2.5884500e-01 2.6960450e-01 ... 0.0000000e+00\n",
      "    7.7637322e-02 9.3928851e-02]]]\n",
      "\n",
      "\n",
      " [[[2.5634682e+00 2.0309021e-01 1.5011416e-01 ... 3.5734051e-01\n",
      "    2.7579477e-01 2.0164295e-01]]]]\n"
     ]
    }
   ],
   "source": [
    "\n",
    "import numpy as np\n",
    "\n",
    "### TODO: Obtain bottleneck features from another pre-trained CNN.\n",
    "bottleneck_features = np.load('/content/drive/My Drive/bottleneck_features/DogResnet50Data.npz')\n",
    "train_ResNet50 = bottleneck_features['train']\n",
    "valid_ResNet50 = bottleneck_features['valid']\n",
    "test_ResNet50 = bottleneck_features['test']\n",
    "\n",
    "print(train_ResNet50)"
   ]
  },
  {
   "cell_type": "code",
   "execution_count": 17,
   "metadata": {
    "colab": {
     "base_uri": "https://localhost:8080/",
     "height": 201
    },
    "colab_type": "code",
    "executionInfo": {
     "elapsed": 381,
     "status": "ok",
     "timestamp": 1544579726441,
     "user": {
      "displayName": "Manitej Ankam",
      "photoUrl": "https://lh3.googleusercontent.com/-yezqrQ-dYGw/AAAAAAAAAAI/AAAAAAAAAJ4/w-1bvZN8FoE/s64/photo.jpg",
      "userId": "17469310756719594507"
     },
     "user_tz": 300
    },
    "id": "74DpZls26gXz",
    "outputId": "49dbed00-ca05-4a66-f892-411e94ea2d69"
   },
   "outputs": [
    {
     "name": "stdout",
     "output_type": "stream",
     "text": [
      "_________________________________________________________________\n",
      "Layer (type)                 Output Shape              Param #   \n",
      "=================================================================\n",
      "global_average_pooling2d_2 ( (None, 2048)              0         \n",
      "_________________________________________________________________\n",
      "dense_2 (Dense)              (None, 133)               272517    \n",
      "=================================================================\n",
      "Total params: 272,517\n",
      "Trainable params: 272,517\n",
      "Non-trainable params: 0\n",
      "_________________________________________________________________\n"
     ]
    }
   ],
   "source": [
    "from keras.layers import Conv2D, MaxPooling2D, GlobalAveragePooling2D\n",
    "from keras.layers import Dropout, Flatten, Dense, Activation\n",
    "from keras.models import Sequential\n",
    "from keras.layers.normalization import BatchNormalization\n",
    "\n",
    "ResNet_model = Sequential()\n",
    "ResNet_model.add(GlobalAveragePooling2D(input_shape=train_ResNet50.shape[1:]))\n",
    "ResNet_model.add(Dense(133, activation='softmax'))\n",
    "\n",
    "ResNet_model.summary()"
   ]
  },
  {
   "cell_type": "code",
   "execution_count": 0,
   "metadata": {
    "colab": {},
    "colab_type": "code",
    "collapsed": true,
    "id": "qZp3h5ju6oJp"
   },
   "outputs": [],
   "source": [
    "from keras.optimizers import Adam, Adamax\n",
    "\n",
    "ResNet_model.compile(loss='categorical_crossentropy', optimizer=Adamax(lr=0.002), metrics=['accuracy'])"
   ]
  },
  {
   "cell_type": "code",
   "execution_count": 35,
   "metadata": {
    "colab": {
     "base_uri": "https://localhost:8080/",
     "height": 385
    },
    "colab_type": "code",
    "executionInfo": {
     "elapsed": 5064,
     "status": "ok",
     "timestamp": 1544580244186,
     "user": {
      "displayName": "Manitej Ankam",
      "photoUrl": "https://lh3.googleusercontent.com/-yezqrQ-dYGw/AAAAAAAAAAI/AAAAAAAAAJ4/w-1bvZN8FoE/s64/photo.jpg",
      "userId": "17469310756719594507"
     },
     "user_tz": 300
    },
    "id": "BduMbqvd6qzq",
    "outputId": "8cd78c16-1dfd-47b1-a81f-f26ec4258bc8"
   },
   "outputs": [
    {
     "name": "stdout",
     "output_type": "stream",
     "text": [
      "Train on 6680 samples, validate on 835 samples\n",
      "Epoch 1/10\n",
      " - 0s - loss: 0.0023 - acc: 0.9993 - val_loss: 15.3262 - val_acc: 0.0108\n",
      "Epoch 2/10\n",
      " - 0s - loss: 0.0027 - acc: 0.9988 - val_loss: 15.3342 - val_acc: 0.0120\n",
      "Epoch 3/10\n",
      " - 0s - loss: 0.0026 - acc: 0.9987 - val_loss: 15.3455 - val_acc: 0.0120\n",
      "Epoch 4/10\n",
      " - 0s - loss: 0.0027 - acc: 0.9990 - val_loss: 15.3567 - val_acc: 0.0120\n",
      "Epoch 5/10\n",
      " - 0s - loss: 0.0023 - acc: 0.9991 - val_loss: 15.3696 - val_acc: 0.0108\n",
      "Epoch 6/10\n",
      " - 0s - loss: 0.0024 - acc: 0.9988 - val_loss: 15.3784 - val_acc: 0.0108\n",
      "Epoch 7/10\n",
      " - 0s - loss: 0.0023 - acc: 0.9991 - val_loss: 15.3850 - val_acc: 0.0120\n",
      "Epoch 8/10\n",
      " - 0s - loss: 0.0019 - acc: 0.9991 - val_loss: 15.3996 - val_acc: 0.0120\n",
      "Epoch 9/10\n",
      " - 0s - loss: 0.0026 - acc: 0.9987 - val_loss: 15.4049 - val_acc: 0.0120\n",
      "Epoch 10/10\n",
      " - 0s - loss: 0.0026 - acc: 0.9987 - val_loss: 15.4208 - val_acc: 0.0120\n"
     ]
    },
    {
     "data": {
      "text/plain": [
       "<keras.callbacks.History at 0x7fe9ed27a470>"
      ]
     },
     "execution_count": 35,
     "metadata": {
      "tags": []
     },
     "output_type": "execute_result"
    }
   ],
   "source": [
    "\n",
    "epochs = 10\n",
    "batch_size = 64\n",
    "\n",
    "ResNet_model.fit(train_ResNet50, train_targets, \n",
    "          validation_data=(valid_ResNet50, valid_targets),\n",
    "          epochs=epochs, batch_size=batch_size, verbose=2)"
   ]
  },
  {
   "cell_type": "code",
   "execution_count": 36,
   "metadata": {
    "colab": {
     "base_uri": "https://localhost:8080/",
     "height": 33
    },
    "colab_type": "code",
    "executionInfo": {
     "elapsed": 1077,
     "status": "ok",
     "timestamp": 1544580246688,
     "user": {
      "displayName": "Manitej Ankam",
      "photoUrl": "https://lh3.googleusercontent.com/-yezqrQ-dYGw/AAAAAAAAAAI/AAAAAAAAAJ4/w-1bvZN8FoE/s64/photo.jpg",
      "userId": "17469310756719594507"
     },
     "user_tz": 300
    },
    "id": "k2qhua1q6yCS",
    "outputId": "5da4adbd-b23f-4ae1-ac44-a4f59ad7c6c4"
   },
   "outputs": [
    {
     "name": "stdout",
     "output_type": "stream",
     "text": [
      "Test accuracy: 71.8900%\n"
     ]
    }
   ],
   "source": [
    "### TODO: Calculate classification accuracy on the test dataset.\n",
    "\n",
    "# get index of predicted dog breed for each image in test set\n",
    "ResNet50_predictions = [np.argmax(ResNet_model.predict(np.expand_dims(feature, axis=0))) for feature in test_ResNet50]\n",
    "\n",
    "# report test accuracy\n",
    "test_accuracy = 100*np.sum(np.array(ResNet50_predictions)==np.argmax(test_targets, axis=1))/len(ResNet50_predictions)\n",
    "print('Test accuracy: %.4f%%' % test_accuracy)"
   ]
  },
  {
   "cell_type": "code",
   "execution_count": 0,
   "metadata": {
    "colab": {},
    "colab_type": "code",
    "collapsed": true,
    "id": "28244KQ6IXW7"
   },
   "outputs": [],
   "source": []
  }
 ],
 "metadata": {
  "accelerator": "GPU",
  "colab": {
   "name": "DogClassifier.ipynb",
   "provenance": [],
   "version": "0.3.2"
  },
  "kernelspec": {
   "display_name": "Python 3",
   "language": "python",
   "name": "python3"
  },
  "language_info": {
   "codemirror_mode": {
    "name": "ipython",
    "version": 3
   },
   "file_extension": ".py",
   "mimetype": "text/x-python",
   "name": "python",
   "nbconvert_exporter": "python",
   "pygments_lexer": "ipython3",
   "version": "3.6.3"
  }
 },
 "nbformat": 4,
 "nbformat_minor": 1
}
